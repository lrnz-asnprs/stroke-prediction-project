{
 "cells": [
  {
   "cell_type": "code",
   "execution_count": 1,
   "metadata": {},
   "outputs": [],
   "source": [
    "import pandas as pd\n",
    "import matplotlib.pyplot as plt\n",
    "import seaborn as sns\n",
    "import numpy as np\n",
    "plt.style.use('ggplot')\n",
    "# https://www.kaggle.com/fedesoriano/stroke-prediction-dataset \n",
    "df = pd.read_csv(\"..\\\\..\\\\data\\\\healthcare-dataset-stroke-data.csv\")"
   ]
  },
  {
   "cell_type": "code",
   "execution_count": 2,
   "metadata": {},
   "outputs": [
    {
     "name": "stdout",
     "output_type": "stream",
     "text": [
      "Original dataset samples per class Counter({0: 4700, 1: 209})\n",
      "Resampled dataset samples per class Counter({0: 209, 1: 209})\n",
      "Original dataset samples per class Counter({0: 4700, 1: 209})\n",
      "Resampled dataset samples per class Counter({1: 4700, 0: 4700})\n"
     ]
    }
   ],
   "source": [
    "# Generate the data samples: Original, Oversampled, Undersampled\n",
    "from src.Resample import undersample_kmeans\n",
    "from src.Resample import oversample\n",
    "\n",
    "y = df[[\"stroke\"]].copy()\n",
    "X = df.copy()\n",
    "X.drop(columns= [\"id\", \"stroke\"], inplace=True)\n",
    "\n",
    "# HANDLE NAN VALUES HERE! Add method\n",
    "df.dropna(inplace=True)\n",
    "\n",
    "# Get over and undersampled data\n",
    "undersampled = undersample_kmeans(df)\n",
    "oversampled = oversample(df)\n",
    "\n",
    "y_over = oversampled[[\"stroke\"]].copy()\n",
    "y_under = undersampled[[\"stroke\"]].copy()\n",
    "\n",
    "oversampled.drop(columns=[\"stroke\"], inplace=True)\n",
    "undersampled.drop(columns=[\"stroke\"], inplace=True)\n",
    "\n",
    "X_over = oversampled.copy()\n",
    "X_under = undersampled.copy()"
   ]
  },
  {
   "cell_type": "code",
   "execution_count": 3,
   "metadata": {},
   "outputs": [],
   "source": [
    "from sklearn.pipeline import Pipeline\n",
    "from sklearn.preprocessing import StandardScaler\n",
    "from sklearn.preprocessing import MinMaxScaler\n",
    "from sklearn.preprocessing import OneHotEncoder\n",
    "from sklearn.preprocessing import LabelEncoder\n",
    "from sklearn.preprocessing import OrdinalEncoder\n",
    "from sklearn.compose import ColumnTransformer\n",
    "from sklearn.svm import SVC\n",
    "\n",
    "num_pipe = Pipeline([\n",
    "    #('impute', SimpleImputer(strategy='median', copy=False)),\n",
    "    ('minmax_scaler', MinMaxScaler(copy=False))\n",
    "])\n",
    "\n",
    "ordinal_pipe = Pipeline([\n",
    "    ('one_hot', OneHotEncoder(sparse=False, handle_unknown='ignore'))\n",
    "])\n",
    "\n",
    "binary_pipe = Pipeline([\n",
    "    ('label_encoder', OrdinalEncoder()),\n",
    "])\n",
    "\n",
    "# two pipelines combined in the column transformer\n",
    "full_transform = ColumnTransformer([\n",
    "    (\"num\", num_pipe, [\"age\", \"avg_glucose_level\", \"bmi\"]),\n",
    "    (\"ord\", ordinal_pipe, [\"gender\", \"work_type\", \"smoking_status\"]),\n",
    "    (\"binary\", binary_pipe, [\"ever_married\", \"Residence_type\"]),\n",
    "])\n",
    "\n",
    "full_pipeline = Pipeline([\n",
    "    ('trf', full_transform),\n",
    "    ('svm', SVC(random_state =0))\n",
    "])"
   ]
  },
  {
   "cell_type": "code",
   "execution_count": 4,
   "metadata": {},
   "outputs": [],
   "source": [
    "from sklearn.model_selection import train_test_split\n",
    "# Split data\n",
    "\n",
    "X_train, X_test, y_train, y_test = train_test_split(X_under, y_under, test_size=0.33, random_state=42, shuffle=True) # Set shuffle to true to have data of both labels in test set"
   ]
  },
  {
   "cell_type": "code",
   "execution_count": 5,
   "metadata": {},
   "outputs": [
    {
     "name": "stderr",
     "output_type": "stream",
     "text": [
      "C:\\Python39\\lib\\site-packages\\sklearn\\utils\\validation.py:63: DataConversionWarning: A column-vector y was passed when a 1d array was expected. Please change the shape of y to (n_samples, ), for example using ravel().\n",
      "  return f(*args, **kwargs)\n"
     ]
    },
    {
     "data": {
      "text/plain": [
       "0.7971014492753623"
      ]
     },
     "execution_count": 5,
     "metadata": {},
     "output_type": "execute_result"
    }
   ],
   "source": [
    "full_pipeline.fit(X_train, y_train)\n",
    "full_pipeline.score(X_test, y_test)"
   ]
  }
 ],
 "metadata": {
  "interpreter": {
   "hash": "63fd5069d213b44bf678585dea6b12cceca9941eaf7f819626cde1f2670de90d"
  },
  "kernelspec": {
   "display_name": "Python 3.9.6 64-bit",
   "language": "python",
   "name": "python3"
  },
  "language_info": {
   "codemirror_mode": {
    "name": "ipython",
    "version": 3
   },
   "file_extension": ".py",
   "mimetype": "text/x-python",
   "name": "python",
   "nbconvert_exporter": "python",
   "pygments_lexer": "ipython3",
   "version": "3.9.6"
  },
  "orig_nbformat": 4
 },
 "nbformat": 4,
 "nbformat_minor": 2
}
