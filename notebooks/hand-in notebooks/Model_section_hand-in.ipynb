{
 "cells": [
  {
   "cell_type": "code",
   "execution_count": 65,
   "metadata": {},
   "outputs": [],
   "source": [
    "import pandas as pd\n",
    "import matplotlib.pyplot as plt\n",
    "import seaborn as sns\n",
    "import numpy as np\n",
    "plt.style.use('ggplot')\n",
    "# https://www.kaggle.com/fedesoriano/stroke-prediction-dataset \n",
    "df = pd.read_csv(\"..\\\\..\\\\data\\\\healthcare-dataset-stroke-data.csv\")"
   ]
  },
  {
   "cell_type": "code",
   "execution_count": 66,
   "metadata": {},
   "outputs": [
    {
     "name": "stderr",
     "output_type": "stream",
     "text": [
      "C:\\Python39\\lib\\site-packages\\pandas\\core\\generic.py:5516: SettingWithCopyWarning: \n",
      "A value is trying to be set on a copy of a slice from a DataFrame.\n",
      "Try using .loc[row_indexer,col_indexer] = value instead\n",
      "\n",
      "See the caveats in the documentation: https://pandas.pydata.org/pandas-docs/stable/user_guide/indexing.html#returning-a-view-versus-a-copy\n",
      "  self[name] = value\n"
     ]
    }
   ],
   "source": [
    "# Fill missing values\n",
    "from sklearn.tree import DecisionTreeRegressor\n",
    "from sklearn.preprocessing import StandardScaler\n",
    "from sklearn.pipeline import Pipeline\n",
    "\n",
    "DecisionTreePip = Pipeline(steps=[ \n",
    "                               ('Scale',StandardScaler()),\n",
    "                               ('DecisionTreeReg',DecisionTreeRegressor(random_state = 42))\n",
    "                              ])\n",
    "\n",
    "X = df[['age','gender','bmi']]\n",
    "X.gender = X.gender.replace({'Male' : 0, 'Female' : 1 , 'Other' : -1}).astype(np.uint8)\n",
    "\n",
    "# create a dataframe containing the missing values of X\n",
    "missing = X[X.bmi.isna()]\n",
    "\n",
    "# remove the missing values from X \n",
    "X = X.dropna()\n",
    "\n",
    "# creates Y by removing bmi from X\n",
    "Y = X.pop('bmi')\n",
    "\n",
    "# fit the pipeline\n",
    "DecisionTreePip.fit(X,Y)\n",
    "\n",
    "# make the prediction \n",
    "predict_bmi = pd.Series(DecisionTreePip.predict(missing[['age', 'gender']]), index = missing.index)\n",
    "df.loc[missing.index, 'bmi'] = predict_bmi"
   ]
  },
  {
   "cell_type": "code",
   "execution_count": 67,
   "metadata": {},
   "outputs": [],
   "source": [
    "# Generate the data samples: Original, Oversampled, Undersampled\n",
    "y = df[[\"stroke\"]].copy()\n",
    "X = df.copy()"
   ]
  },
  {
   "cell_type": "code",
   "execution_count": 68,
   "metadata": {},
   "outputs": [],
   "source": [
    "# ALWAYS SPLIT THE DATA IN TRAIN AND TEST AND THEN OVERSAMPLE/DOWNSAMPLE\n",
    "# see here: https://stackoverflow.com/questions/48805063/balance-classes-in-cross-validation/48810493#48810493 \n",
    "from sklearn.model_selection import train_test_split\n",
    "# Split data\n",
    "X_train, X_test, y_train, y_test = train_test_split(X, y, test_size=0.2, random_state=3, shuffle=True) # Set shuffle to true to have data of both labels in test set"
   ]
  },
  {
   "cell_type": "code",
   "execution_count": 69,
   "metadata": {},
   "outputs": [
    {
     "name": "stderr",
     "output_type": "stream",
     "text": [
      "C:\\Python39\\lib\\site-packages\\pandas\\core\\frame.py:4901: SettingWithCopyWarning: \n",
      "A value is trying to be set on a copy of a slice from a DataFrame\n",
      "\n",
      "See the caveats in the documentation: https://pandas.pydata.org/pandas-docs/stable/user_guide/indexing.html#returning-a-view-versus-a-copy\n",
      "  return super().drop(\n"
     ]
    }
   ],
   "source": [
    "X_train.drop([\"id\", \"stroke\"], inplace=True, axis=1)\n",
    "X_test.drop([\"id\", \"stroke\"], inplace=True, axis=1)"
   ]
  },
  {
   "cell_type": "code",
   "execution_count": 70,
   "metadata": {},
   "outputs": [
    {
     "name": "stdout",
     "output_type": "stream",
     "text": [
      "Original dataset samples per class Counter({0: 3884, 1: 204})\n",
      "Resampled dataset samples per class Counter({0: 204, 1: 204})\n",
      "Original dataset samples per class Counter({0: 3884, 1: 204})\n",
      "Resampled dataset samples per class Counter({0: 3884, 1: 3884})\n"
     ]
    }
   ],
   "source": [
    "# The oversampled/undersampled data will be used for training ONLY! not for testing\n",
    "\n",
    "from src.Resample import undersample_kmeans\n",
    "from src.Resample import oversample\n",
    "\n",
    "df_input = X_train.copy()\n",
    "df_input[\"stroke\"] = y_train\n",
    "\n",
    "# Get over and undersampled data\n",
    "undersampled = undersample_kmeans(df_input)\n",
    "oversampled = oversample(df_input)\n",
    "\n",
    "y_over_train = oversampled[[\"stroke\"]].copy()\n",
    "y_under_train = undersampled[[\"stroke\"]].copy()\n",
    "\n",
    "oversampled.drop(columns=[\"stroke\"], inplace=True)\n",
    "undersampled.drop(columns=[\"stroke\"], inplace=True)\n",
    "\n",
    "X_over_train = oversampled.copy()\n",
    "X_under_train = undersampled.copy()"
   ]
  },
  {
   "cell_type": "code",
   "execution_count": 71,
   "metadata": {},
   "outputs": [],
   "source": [
    "from sklearn.pipeline import Pipeline\n",
    "from sklearn.preprocessing import StandardScaler\n",
    "from sklearn.preprocessing import MinMaxScaler\n",
    "from sklearn.preprocessing import OneHotEncoder\n",
    "from sklearn.preprocessing import LabelEncoder\n",
    "from sklearn.preprocessing import OrdinalEncoder\n",
    "from sklearn.compose import ColumnTransformer\n",
    "from sklearn.svm import SVC\n",
    "\n",
    "num_pipe = Pipeline([\n",
    "    #('impute', SimpleImputer(strategy='median', copy=False)),\n",
    "    ('minmax_scaler', MinMaxScaler(copy=False))\n",
    "])\n",
    "\n",
    "ordinal_pipe = Pipeline([\n",
    "    ('one_hot', OneHotEncoder(sparse=False, handle_unknown='ignore'))\n",
    "])\n",
    "\n",
    "binary_pipe = Pipeline([\n",
    "    ('label_encoder', OrdinalEncoder()),\n",
    "])\n",
    "\n",
    "# two pipelines combined in the column transformer\n",
    "full_transform = ColumnTransformer([\n",
    "    (\"num\", num_pipe, [\"age\", \"avg_glucose_level\", \"bmi\"]),\n",
    "    (\"ord\", ordinal_pipe, [\"gender\", \"work_type\", \"smoking_status\"]),\n",
    "    (\"binary\", binary_pipe, [\"ever_married\", \"Residence_type\"]),\n",
    "])\n",
    "\n",
    "full_pipeline = Pipeline([\n",
    "    ('trf', full_transform),\n",
    "    ('svm', SVC(random_state =0))\n",
    "])"
   ]
  },
  {
   "cell_type": "code",
   "execution_count": 72,
   "metadata": {},
   "outputs": [],
   "source": [
    "# Evaluate model\n",
    "from sklearn.metrics import accuracy_score, confusion_matrix, roc_auc_score, ConfusionMatrixDisplay, precision_score, recall_score, f1_score, classification_report, roc_curve, plot_roc_curve, auc, precision_recall_curve, plot_precision_recall_curve, average_precision_score\n",
    "from sklearn.model_selection import cross_val_score\n",
    "from sklearn.model_selection import KFold"
   ]
  },
  {
   "cell_type": "code",
   "execution_count": 84,
   "metadata": {},
   "outputs": [
    {
     "data": {
      "text/plain": [
       "array([0, 0, 0, ..., 0, 1, 0], dtype=int64)"
      ]
     },
     "execution_count": 84,
     "metadata": {},
     "output_type": "execute_result"
    }
   ],
   "source": [
    "y_pred"
   ]
  },
  {
   "cell_type": "code",
   "execution_count": 83,
   "metadata": {},
   "outputs": [
    {
     "name": "stderr",
     "output_type": "stream",
     "text": [
      "C:\\Python39\\lib\\site-packages\\sklearn\\utils\\validation.py:63: DataConversionWarning: A column-vector y was passed when a 1d array was expected. Please change the shape of y to (n_samples, ), for example using ravel().\n",
      "  return f(*args, **kwargs)\n",
      "C:\\Python39\\lib\\site-packages\\sklearn\\utils\\validation.py:63: DataConversionWarning: A column-vector y was passed when a 1d array was expected. Please change the shape of y to (n_samples, ), for example using ravel().\n",
      "  return f(*args, **kwargs)\n",
      "C:\\Python39\\lib\\site-packages\\sklearn\\utils\\validation.py:63: DataConversionWarning: A column-vector y was passed when a 1d array was expected. Please change the shape of y to (n_samples, ), for example using ravel().\n",
      "  return f(*args, **kwargs)\n",
      "C:\\Python39\\lib\\site-packages\\sklearn\\utils\\validation.py:63: DataConversionWarning: A column-vector y was passed when a 1d array was expected. Please change the shape of y to (n_samples, ), for example using ravel().\n",
      "  return f(*args, **kwargs)\n"
     ]
    },
    {
     "name": "stdout",
     "output_type": "stream",
     "text": [
      "Confusion Matrix\n",
      "[[710 267]\n",
      " [ 16  29]]\n",
      "\n",
      "Accuracy Score:  0.723091976516634\n",
      "\n",
      "K-Fold Validation Mean Accuracy: 68.95 %\n",
      "\n",
      "Standard Deviation: 10.23 %\n",
      "\n",
      "Precision: 0.10\n",
      "\n",
      "Recall: 0.64\n",
      "\n",
      "F1: 0.17\n",
      "-----------------------------------\n"
     ]
    }
   ],
   "source": [
    "# Need to decide whether to split the data BEFORE upsampling or downsampling or after?!\n",
    "full_pipeline.fit(X_over_train, y_over_train)\n",
    "full_pipeline.score(X_test, y_test)\n",
    "\n",
    "y_pred = full_pipeline.predict(X_test)\n",
    "\n",
    "# KFold cross validation\n",
    "cv = KFold(n_splits=3, random_state=None)\n",
    "accuracies = cross_val_score(estimator = full_pipeline, X = X_over_train, y = y_over_train, cv = cv) # Set input here! Over, under or original data\n",
    "\n",
    "cm = confusion_matrix(y_test.values.flatten(), y_pred)\n",
    "precision = precision_score(y_test.values.flatten(), y_pred)\n",
    "recall = recall_score(y_test.values.flatten(), y_pred)\n",
    "f1 = f1_score(y_test.values.flatten(), y_pred)\n",
    "\n",
    "print('Confusion Matrix')\n",
    "print(cm)\n",
    "print('')\n",
    "print('Accuracy Score: ',accuracy_score(y_test, y_pred))\n",
    "print('')\n",
    "print(\"K-Fold Validation Mean Accuracy: {:.2f} %\".format(accuracies.mean()*100))\n",
    "print('')\n",
    "print(\"Standard Deviation: {:.2f} %\".format(accuracies.std()*100))\n",
    "print('')\n",
    "print('Precision: {:.2f}'.format(precision))\n",
    "print('')\n",
    "print('Recall: {:.2f}'.format(recall))\n",
    "print('')\n",
    "print('F1: {:.2f}'.format(f1))\n",
    "print('-----------------------------------')"
   ]
  }
 ],
 "metadata": {
  "interpreter": {
   "hash": "63fd5069d213b44bf678585dea6b12cceca9941eaf7f819626cde1f2670de90d"
  },
  "kernelspec": {
   "display_name": "Python 3.9.6 64-bit",
   "language": "python",
   "name": "python3"
  },
  "language_info": {
   "codemirror_mode": {
    "name": "ipython",
    "version": 3
   },
   "file_extension": ".py",
   "mimetype": "text/x-python",
   "name": "python",
   "nbconvert_exporter": "python",
   "pygments_lexer": "ipython3",
   "version": "3.9.6"
  },
  "orig_nbformat": 4
 },
 "nbformat": 4,
 "nbformat_minor": 2
}
