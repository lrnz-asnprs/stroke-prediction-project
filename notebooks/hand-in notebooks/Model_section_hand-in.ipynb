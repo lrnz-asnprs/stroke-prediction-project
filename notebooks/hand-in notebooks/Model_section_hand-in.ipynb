{
 "cells": [
  {
   "cell_type": "markdown",
   "metadata": {},
   "source": [
    "# Considerations for this section\n",
    "\n",
    "- Before building a classification model, let’s build a Dummy Classifier to determine the ‘baseline’ performance. This answers the question — ‘What would be the success rate of the model, if one were simply guessing?’ The dummy classifier we are using will simply predict the majority class.\n",
    "- Determine differences between oversampling and undersampling\n",
    "- Explain the evaluation metric we chose (A false negative is more serious as a disease has been ignored, which can lead to the death of the patient. At the same time, a false positive would lead to an unnecessary treatment — incurring additional cost.)\n",
    "- Report the results and measurements in a good way\n",
    "- Explain the model tuning we did (GridSearch e.g.)\n",
    "- Compare model before and after tuning"
   ]
  },
  {
   "cell_type": "code",
   "execution_count": 17,
   "metadata": {},
   "outputs": [],
   "source": [
    "import pandas as pd\n",
    "import matplotlib.pyplot as plt\n",
    "import seaborn as sns\n",
    "import numpy as np\n",
    "plt.style.use('ggplot')\n",
    "# https://www.kaggle.com/fedesoriano/stroke-prediction-dataset \n",
    "df = pd.read_csv(\"..\\\\..\\\\data\\\\healthcare-dataset-stroke-data.csv\")"
   ]
  },
  {
   "cell_type": "code",
   "execution_count": 18,
   "metadata": {},
   "outputs": [
    {
     "name": "stderr",
     "output_type": "stream",
     "text": [
      "C:\\Users\\laise\\anaconda3\\lib\\site-packages\\pandas\\core\\generic.py:5494: SettingWithCopyWarning: \n",
      "A value is trying to be set on a copy of a slice from a DataFrame.\n",
      "Try using .loc[row_indexer,col_indexer] = value instead\n",
      "\n",
      "See the caveats in the documentation: https://pandas.pydata.org/pandas-docs/stable/user_guide/indexing.html#returning-a-view-versus-a-copy\n",
      "  self[name] = value\n"
     ]
    }
   ],
   "source": [
    "# Fill missing values\n",
    "from sklearn.tree import DecisionTreeRegressor\n",
    "from sklearn.preprocessing import StandardScaler\n",
    "from sklearn.pipeline import Pipeline\n",
    "\n",
    "DecisionTreePip = Pipeline(steps=[ \n",
    "                               ('Scale',StandardScaler()),\n",
    "                               ('DecisionTreeReg',DecisionTreeRegressor(random_state = 42))\n",
    "                              ])\n",
    "\n",
    "X = df[['age','gender','bmi']]\n",
    "X.gender = X.gender.replace({'Male' : 0, 'Female' : 1 , 'Other' : -1}).astype(np.uint8)\n",
    "\n",
    "# create a dataframe containing the missing values of X\n",
    "missing = X[X.bmi.isna()]\n",
    "\n",
    "# remove the missing values from X \n",
    "X = X.dropna()\n",
    "\n",
    "# creates Y by removing bmi from X\n",
    "Y = X.pop('bmi')\n",
    "\n",
    "# fit the pipeline\n",
    "DecisionTreePip.fit(X,Y)\n",
    "\n",
    "# make the prediction \n",
    "predict_bmi = pd.Series(DecisionTreePip.predict(missing[['age', 'gender']]), index = missing.index)\n",
    "df.loc[missing.index, 'bmi'] = predict_bmi"
   ]
  },
  {
   "cell_type": "code",
   "execution_count": 19,
   "metadata": {},
   "outputs": [],
   "source": [
    "# Generate the data samples: Original, Oversampled, Undersampled\n",
    "y = df[[\"stroke\"]].copy()\n",
    "X = df.copy()"
   ]
  },
  {
   "cell_type": "code",
   "execution_count": 20,
   "metadata": {},
   "outputs": [],
   "source": [
    "# ALWAYS SPLIT THE DATA IN TRAIN AND TEST AND THEN OVERSAMPLE/DOWNSAMPLE\n",
    "# see here: https://stackoverflow.com/questions/48805063/balance-classes-in-cross-validation/48810493#48810493 \n",
    "from sklearn.model_selection import train_test_split\n",
    "# Split data\n",
    "X_raw_train, X_test, y_raw_train, y_test = train_test_split(X, y, test_size=0.25, random_state=3, shuffle=True) # Set shuffle to true to have data of both labels in test set"
   ]
  },
  {
   "cell_type": "code",
   "execution_count": 21,
   "metadata": {},
   "outputs": [
    {
     "name": "stderr",
     "output_type": "stream",
     "text": [
      "C:\\Users\\laise\\anaconda3\\lib\\site-packages\\pandas\\core\\frame.py:4308: SettingWithCopyWarning: \n",
      "A value is trying to be set on a copy of a slice from a DataFrame\n",
      "\n",
      "See the caveats in the documentation: https://pandas.pydata.org/pandas-docs/stable/user_guide/indexing.html#returning-a-view-versus-a-copy\n",
      "  return super().drop(\n"
     ]
    }
   ],
   "source": [
    "X_raw_train.drop([\"id\", \"stroke\"], inplace=True, axis=1)\n",
    "X_test.drop([\"id\", \"stroke\"], inplace=True, axis=1)"
   ]
  },
  {
   "cell_type": "code",
   "execution_count": 22,
   "metadata": {},
   "outputs": [
    {
     "name": "stdout",
     "output_type": "stream",
     "text": [
      "Original dataset samples per class Counter({0: 3643, 1: 189})\n",
      "Resampled dataset samples per class Counter({0: 189, 1: 189})\n",
      "Original dataset samples per class Counter({0: 3643, 1: 189})\n",
      "Resampled dataset samples per class Counter({0: 3643, 1: 1202})\n"
     ]
    }
   ],
   "source": [
    "# The oversampled/undersampled data will be used for training ONLY! not for testing\n",
    "\n",
    "from src.Resample import undersample_kmeans\n",
    "from src.Resample import oversample\n",
    "\n",
    "df_input = X_raw_train.copy()\n",
    "df_input[\"stroke\"] = y_raw_train\n",
    "\n",
    "# Get over and undersampled data\n",
    "undersampled = undersample_kmeans(df_input)\n",
    "oversampled = oversample(df_input)\n",
    "\n",
    "y_over_train = oversampled[[\"stroke\"]].copy()\n",
    "y_under_train = undersampled[[\"stroke\"]].copy()\n",
    "\n",
    "oversampled.drop(columns=[\"stroke\"], inplace=True)\n",
    "undersampled.drop(columns=[\"stroke\"], inplace=True)\n",
    "\n",
    "X_over_train = oversampled.copy()\n",
    "X_under_train = undersampled.copy()\n",
    "X_under_train = X_under_train[[\"gender\",\"age\",\"hypertension\",\"heart_disease\",\"ever_married\",\"work_type\",\"Residence_type\",\"avg_glucose_level\",\"bmi\",\"smoking_status\"]] # Only do this because column order must be same as X_test column order!"
   ]
  },
  {
   "cell_type": "code",
   "execution_count": 60,
   "metadata": {},
   "outputs": [],
   "source": [
    "from sklearn.pipeline import Pipeline\n",
    "from sklearn.preprocessing import StandardScaler\n",
    "from sklearn.preprocessing import RobustScaler\n",
    "from sklearn.preprocessing import MinMaxScaler\n",
    "from sklearn.preprocessing import OneHotEncoder\n",
    "from sklearn.preprocessing import LabelEncoder\n",
    "from sklearn.preprocessing import OrdinalEncoder\n",
    "from sklearn.compose import ColumnTransformer\n",
    "from sklearn.svm import SVC\n",
    "from sklearn.neighbors import KNeighborsClassifier\n",
    "from sklearn.ensemble import RandomForestClassifier\n",
    "\n",
    "\n",
    "num_pipe = Pipeline([\n",
    "    #('impute', SimpleImputer(strategy='median', copy=False)),\n",
    "    #('minmax_scaler', MinMaxScaler(copy=False))\n",
    "    #('standard_scaler', StandardScaler(copy=False))\n",
    "    ('robust_scaler', RobustScaler(copy=False))\n",
    "])\n",
    "\n",
    "ordinal_pipe = Pipeline([\n",
    "    ('one_hot', OneHotEncoder(sparse=False, handle_unknown='ignore'))\n",
    "])\n",
    "\n",
    "binary_pipe = Pipeline([\n",
    "    ('label_encoder', OrdinalEncoder()),\n",
    "])\n",
    "\n",
    "# two pipelines combined in the column transformer\n",
    "full_transform = ColumnTransformer([\n",
    "    (\"num\", num_pipe, [\"age\", \"avg_glucose_level\", \"bmi\"]),\n",
    "    (\"ord\", ordinal_pipe, [\"gender\", \"work_type\", \"smoking_status\"]),\n",
    "    (\"binary\", binary_pipe, [\"ever_married\", \"Residence_type\"]),\n",
    "])\n",
    "\n",
    "full_pipeline_with_model = Pipeline([\n",
    "    ('trf', full_transform),\n",
    "    ('svm', SVC(C= 0.09, class_weight= 'balanced', kernel= 'linear'))\n",
    "])\n",
    "\n",
    "full_pipeline_no_model = Pipeline([\n",
    "    ('trf', full_transform),\n",
    "])"
   ]
  },
  {
   "cell_type": "code",
   "execution_count": null,
   "metadata": {},
   "outputs": [],
   "source": [
    "# Evaluate model\n",
    "from sklearn.metrics import accuracy_score, confusion_matrix, roc_auc_score, ConfusionMatrixDisplay, precision_score, recall_score, f1_score, classification_report, roc_curve, plot_roc_curve, auc, precision_recall_curve, plot_precision_recall_curve, average_precision_score\n",
    "from sklearn.model_selection import cross_val_score\n",
    "from sklearn.model_selection import KFold"
   ]
  },
  {
   "cell_type": "code",
   "execution_count": 24,
   "metadata": {},
   "outputs": [
    {
     "name": "stdout",
     "output_type": "stream",
     "text": [
      "Confusion Matrix\n",
      "There are 60 stroke cases in test set\n",
      "[[825 393]\n",
      " [  8  52]]\n",
      "The Recall of Stroke is: 86.67 %\n",
      "\n",
      "The General Recall is: 86.67 %\n",
      "\n",
      "Accuracy Score:  0.6862284820031299\n",
      "\n",
      "K-Fold Validation Mean Accuracy: 74.72 %\n",
      "\n",
      "Standard Deviation: 4.99 %\n",
      "\n",
      "Precision: 0.12\n",
      "\n",
      "Recall: 0.87\n",
      "\n",
      "F1: 0.21\n",
      "-----------------------------------\n"
     ]
    }
   ],
   "source": [
    "# Fit model/pipeline on TRAINING DATA; On either Oversampled, Undersampled, or Original data\n",
    "full_pipeline_with_model.fit(X_raw_train, y_raw_train.values.flatten())\n",
    "\n",
    "y_pred = full_pipeline_with_model.predict(X_test)\n",
    "\n",
    "# KFold cross validation\n",
    "cv = KFold(n_splits=3, random_state=None)\n",
    "accuracies = cross_val_score(estimator = full_pipeline_with_model, X = X_over_train, y = y_over_train.values.flatten(), cv = cv) # Set input here! Over, under or original data. Only training data!\n",
    "\n",
    "cm = confusion_matrix(y_test, y_pred)\n",
    "precision = precision_score(y_test, y_pred)\n",
    "recall = recall_score(y_test, y_pred)\n",
    "f1 = f1_score(y_test, y_pred)\n",
    "\n",
    "stroke_recall = cm[1][1]/cm[1].sum()\n",
    "stroke_cases = len(y_test[y_test[\"stroke\"]==1])\n",
    "'''\n",
    "Most important metric we want to look for is the percentage of actual positives that we have identified.\n",
    "This corresponds to HIGH Recall for Stroke True Positive (Recall = Percantage of accurately identified positives)\n",
    "'''\n",
    "print('Confusion Matrix')\n",
    "print(\"There are {} stroke cases in test set\".format(stroke_cases))\n",
    "print(cm)\n",
    "print(\"The Recall of Stroke is: {:.2f} %\".format(stroke_recall*100))\n",
    "print('')\n",
    "print(\"The General Recall is: {:.2f} %\".format(recall*100))\n",
    "print('')\n",
    "print('Accuracy Score: ',accuracy_score(y_test, y_pred))\n",
    "print('')\n",
    "print(\"K-Fold Validation Mean Accuracy: {:.2f} %\".format(accuracies.mean()*100))\n",
    "print('')\n",
    "print(\"Standard Deviation: {:.2f} %\".format(accuracies.std()*100))\n",
    "print('')\n",
    "print('Precision: {:.2f}'.format(precision))\n",
    "print('')\n",
    "print('Recall: {:.2f}'.format(recall))\n",
    "print('')\n",
    "print('F1: {:.2f}'.format(f1))\n",
    "print('-----------------------------------')"
   ]
  },
  {
   "cell_type": "code",
   "execution_count": 25,
   "metadata": {},
   "outputs": [
    {
     "data": {
      "image/png": "[encoded data removed]",
      "text/plain": [
       "<Figure size 432x288 with 1 Axes>"
      ]
     },
     "metadata": {},
     "output_type": "display_data"
    }
   ],
   "source": [
    "# ROC curve\n",
    "# code inspired from https://www.analyticsvidhya.com/blog/2020/06/auc-roc-curve-machine-learning/?fbclid=IwAR0g5dlUGF53mbQQ0h9kwV8Ne9-NzYiGjlYwe72GpHbidMEEPAUD2Sgu1yo\n",
    "import sklearn.metrics as metrics\n",
    "# import scikitplot as skplt\n",
    "import matplotlib.pyplot as plt\n",
    "\n",
    "fpr, tpr, threshold = metrics.roc_curve(y_test, y_pred)\n",
    "roc_auc = metrics.auc(fpr, tpr)\n",
    "\n",
    "plt.title('ROC curve')\n",
    "plt.plot(fpr, tpr, 'b', label = 'AUC = %0.2f' % roc_auc)\n",
    "plt.legend(loc = 'lower right')\n",
    "plt.plot([0, 1], [0, 1],'r--')\n",
    "plt.xlim([0, 1])\n",
    "plt.ylim([0, 1])\n",
    "plt.ylabel('True Positive Rate')\n",
    "plt.xlabel('False Positive Rate')\n",
    "plt.show()"
   ]
  },
  {
   "cell_type": "markdown",
   "metadata": {},
   "source": [
    "## Grid Search"
   ]
  },
  {
   "cell_type": "markdown",
   "metadata": {},
   "source": [
    "### Evaluation Metric Discussion\n",
    "\n",
    "If your dataset is heavily imbalanced and/or you mostly care about the positive class, I’d consider using F1 score, or Precision-Recall curve and PR AUC.  The additional reason to go with F1 (or Fbeta) is that these metrics are easier to interpret and communicate to business stakeholders.\n",
    "(https://neptune.ai/blog/f1-score-accuracy-roc-auc-pr-auc)\n",
    "\n",
    "As a rule of thumb, if the cost of having False negative is high, we want to increase the model sensitivity and recall (which are the exact same in regard to their formula)!.\n",
    "For instance, in fraud detection or sick patient detection, we don't want to label/predict a fraudulent transaction (True Positive) as non-fraudulent (False Negative). Also, we don't want to label/predict a contagious sick patient (True Positive) as not sick (False Negative).\n",
    "This is because the consequences will be worse than a False Positive (incorrectly labeling a a harmless transaction as fraudulent or a non-contagious patient as contagious). (https://stackoverflow.com/questions/44172162/f1-score-vs-roc-auc)\n",
    "\n",
    "--> Consequently, when you have a data imbalance between positive and negative samples, you should always use F1-score because ROC averages over all possible thresholds!!"
   ]
  },
  {
   "cell_type": "code",
   "execution_count": 89,
   "metadata": {},
   "outputs": [],
   "source": [
    "# Use f1 beta score that emphasizes recall more\n",
    "\n",
    "from sklearn.metrics import fbeta_score, make_scorer\n",
    "\n",
    "f1 = make_scorer(fbeta_score , beta=2) # With beta of "
   ]
  },
  {
   "cell_type": "markdown",
   "metadata": {},
   "source": [
    "### Multiple models"
   ]
  },
  {
   "cell_type": "code",
   "execution_count": 90,
   "metadata": {},
   "outputs": [
    {
     "name": "stdout",
     "output_type": "stream",
     "text": [
      "Looking at raw data!\n",
      "----------------\n",
      "LogisticRegression():\n",
      "Best F1 : 40.14%\n",
      "[[868 350]\n",
      " [ 13  47]]\n",
      "Precision Score : 0.11838790931989925\n",
      "Recall Score : 0.7833333333333333\n",
      "Best Parameters :  {'C': 0.75, 'class_weight': 'balanced', 'penalty': 'l2', 'random_state': 0}\n",
      "\n",
      "----------------\n",
      "\n",
      "Looking at raw data!\n",
      "----------------\n",
      "SVC():\n",
      "Best F1 : 40.05%\n",
      "[[853 365]\n",
      " [  9  51]]\n",
      "Precision Score : 0.12259615384615384\n",
      "Recall Score : 0.85\n",
      "Best Parameters :  {'C': 25, 'class_weight': 'balanced', 'kernel': 'linear'}\n",
      "\n",
      "----------------\n",
      "\n",
      "Looking at over data!\n",
      "----------------\n",
      "LogisticRegression():\n",
      "Best F1 : 75.78%\n",
      "[[901 317]\n",
      " [ 17  43]]\n",
      "Precision Score : 0.11944444444444445\n",
      "Recall Score : 0.7166666666666667\n",
      "Best Parameters :  {'C': 0.5, 'class_weight': 'balanced', 'penalty': 'l2', 'random_state': 0}\n",
      "\n",
      "----------------\n",
      "\n",
      "Looking at over data!\n",
      "----------------\n",
      "SVC():\n",
      "Best F1 : 80.59%\n",
      "[[992 226]\n",
      " [ 39  21]]\n",
      "Precision Score : 0.08502024291497975\n",
      "Recall Score : 0.35\n",
      "Best Parameters :  {'C': 10, 'class_weight': 'balanced', 'kernel': 'rbf'}\n",
      "\n",
      "----------------\n",
      "\n"
     ]
    }
   ],
   "source": [
    "# Do parameter tuning\n",
    "# The GridSearchCV is a library function that is a member of sklearn's model_selection package. It helps to loop through predefined hyperparameters and fit your estimator (model) on your training set. So, in the end, you can select the best parameters from the listed hyperparameters.\n",
    "# This implementation is to compare several different models. By default, the GridSearchCV uses a 5-fold cross-validation\n",
    "import warnings\n",
    "warnings.filterwarnings('ignore')\n",
    "\n",
    "from sklearn.model_selection import GridSearchCV \n",
    "from sklearn.svm import SVC\n",
    "from sklearn.linear_model import LogisticRegression\n",
    "from sklearn.neighbors import KNeighborsClassifier\n",
    "from sklearn.tree import DecisionTreeClassifier\n",
    "from sklearn.ensemble import RandomForestClassifier\n",
    "\n",
    "\n",
    "grid_models = [(LogisticRegression(),[{'C':[0.25,0.5,0.75,1],'random_state':[0], \"penalty\": [\"l2\", 'none'],  'class_weight': [None, 'balanced']}]), \n",
    "               (SVC(),[{'kernel': ['linear', 'poly', 'rbf', 'sigmoid'],'C':[0.001,.009,0.01,.09,1,5,10,25], 'class_weight': [None, 'balanced']}])]\n",
    "\n",
    "\n",
    "# Perform on the oversampled and raw data respectively\n",
    "for data in [\"raw\", \"over\"]:\n",
    "\n",
    "    # Get training X and y of either raw or oversampled data \n",
    "    X = globals()[f\"X_{data}_train\"]\n",
    "    y = globals()[f\"y_{data}_train\"]\n",
    "    \n",
    "    X_transformed = full_pipeline_no_model.fit_transform(X)\n",
    "\n",
    "    for i,j in grid_models:\n",
    "        grid = GridSearchCV(estimator = i, param_grid = j, scoring = f1) # use F1 as evaluation metric\n",
    "        grid.fit(X_transformed, y.values.flatten())\n",
    "        # Transform test values\n",
    "        X_transformed_test = full_pipeline_no_model.transform(X_test) \n",
    "        # Get predictions  \n",
    "        y_pred_acc = grid.predict(X_transformed_test)\n",
    "        # Get optimal values\n",
    "        best_accuracy = grid.best_score_\n",
    "        best_param = grid.best_params_\n",
    "        print(f\"Looking at {data} data!\")\n",
    "        print('----------------')\n",
    "        print('{}:\\nBest F1 : {:.2f}%'.format(i,best_accuracy*100))\n",
    "        #Logistic Regression (Grid Search) Confusion matrix\n",
    "        print(confusion_matrix(y_test,y_pred_acc))\n",
    "        print('Precision Score : ' + str(precision_score(y_test,y_pred_acc)))\n",
    "        print('Recall Score : ' + str(recall_score(y_test,y_pred_acc)))\n",
    "        print('Best Parameters : ', best_param)\n",
    "        print('')\n",
    "        print('----------------')\n",
    "        print('')\n"
   ]
  },
  {
   "cell_type": "markdown",
   "metadata": {},
   "source": [
    "### Single model"
   ]
  },
  {
   "cell_type": "code",
   "execution_count": 52,
   "metadata": {},
   "outputs": [],
   "source": [
    "# Use f1 beta score that emphasizes recall more\n",
    "\n",
    "from sklearn.metrics import fbeta_score, make_scorer\n",
    "\n",
    "f1 = make_scorer(fbeta_score , beta=1)"
   ]
  },
  {
   "cell_type": "code",
   "execution_count": 67,
   "metadata": {},
   "outputs": [
    {
     "name": "stdout",
     "output_type": "stream",
     "text": [
      "Accuracy Score : 0.8255086071987481\n",
      "Precision Score : 0.1471861471861472\n",
      "Recall Score : 0.5666666666666667\n",
      "F1 Score : 0.2336769759450172\n",
      "ROC_AUC: 0.7024630541871921\n",
      "[[1021  197]\n",
      " [  26   34]]\n",
      "Best Parameters :  {'C': 0.009, 'class_weight': 'balanced', 'kernel': 'poly'}\n"
     ]
    }
   ],
   "source": [
    "# This GridSearch version is just for a single model\n",
    "\n",
    "from sklearn.metrics import classification_report\n",
    "from sklearn.model_selection import GridSearchCV\n",
    "from sklearn.svm import SVC\n",
    "\n",
    "model = SVC()\n",
    "\n",
    "scores = [\"precision\", \"recall\"]\n",
    "\n",
    "# Transform the input data before fitting it to GridSearch\n",
    "X_transformed = full_pipeline_no_model.fit_transform(X_raw_train)\n",
    "\n",
    "# Extensive test\n",
    "grid_values = {'kernel': ['linear', 'poly', 'rbf', 'sigmoid'],'C':[0.001,.009,0.01,.09,1,5,10,25], 'class_weight': [None, 'balanced']}\n",
    "\n",
    "# Small test\n",
    "# grid_values = {'kernel': ['linear'],'C':[0.001], 'class_weight': [{1: 0.2, 0:0.8}, {1: 0.4, 0: 0.6}, {1: 0.8, 0 :0.2}]}\n",
    "# grid_values = {'kernel': ['linear'],'C':[0.001, 0.01], 'class_weight': [None, 'balanced']}\n",
    "\n",
    "grid_clf_acc = GridSearchCV(model, param_grid = grid_values, scoring = 'f1') # Take custom scorer\n",
    "grid_clf_acc.fit(X_transformed, y_raw_train.values.flatten())\n",
    "\n",
    "# Transform test values\n",
    "X_transformed_test = full_pipeline_no_model.transform(X_test)\n",
    "\n",
    "#Predict values based on new parameters\n",
    "y_pred_acc = grid_clf_acc.predict(X_transformed_test)\n",
    "\n",
    "# New Model Evaluation metrics \n",
    "print('Accuracy Score : ' + str(accuracy_score(y_test,y_pred_acc)))\n",
    "print('Precision Score : ' + str(precision_score(y_test,y_pred_acc)))\n",
    "print('Recall Score : ' + str(recall_score(y_test,y_pred_acc)))\n",
    "print('F1 Score : ' + str(f1_score(y_test,y_pred_acc)))\n",
    "print('ROC_AUC: ' + str(roc_auc_score(y_test, y_pred_acc)))\n",
    "\n",
    "#Logistic Regression (Grid Search) Confusion matrix\n",
    "print(confusion_matrix(y_test, y_pred_acc))\n",
    "\n",
    "best_param = grid_clf_acc.best_params_\n",
    "\n",
    "print('Best Parameters : ', best_param)"
   ]
  },
  {
   "cell_type": "code",
   "execution_count": 74,
   "metadata": {},
   "outputs": [
    {
     "data": {
      "text/plain": [
       "array([0.55555556, 0.21167733, 0.09042553, 1.        , 0.        ,\n",
       "       0.        , 0.        , 0.        , 1.        , 0.        ,\n",
       "       0.        , 0.        , 0.        , 1.        , 0.        ,\n",
       "       1.        , 0.        ])"
      ]
     },
     "execution_count": 74,
     "metadata": {},
     "output_type": "execute_result"
    }
   ],
   "source": [
    "X_transformed_test[5]"
   ]
  }
 ],
 "metadata": {
  "interpreter": {
   "hash": "63fd5069d213b44bf678585dea6b12cceca9941eaf7f819626cde1f2670de90d"
  },
  "kernelspec": {
   "display_name": "Python 3",
   "language": "python",
   "name": "python3"
  },
  "language_info": {
   "codemirror_mode": {
    "name": "ipython",
    "version": 3
   },
   "file_extension": ".py",
   "mimetype": "text/x-python",
   "name": "python",
   "nbconvert_exporter": "python",
   "pygments_lexer": "ipython3",
   "version": "3.8.5"
  }
 },
 "nbformat": 4,
 "nbformat_minor": 2
}
